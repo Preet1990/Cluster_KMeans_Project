{
 "cells": [
  {
   "cell_type": "code",
   "execution_count": 1,
   "metadata": {
    "id": "inCkWyeXQL4n"
   },
   "outputs": [],
   "source": [
    "import pandas as pd\n",
    "import numpy as np\n",
    "import seaborn as sns \n",
    "import matplotlib.pyplot as plt\n",
    "%matplotlib inline"
   ]
  },
  {
   "cell_type": "code",
   "execution_count": 2,
   "metadata": {
    "colab": {
     "base_uri": "https://localhost:8080/",
     "height": 594
    },
    "id": "I3rQPEuWQM7x",
    "outputId": "672484ef-542f-442d-99bb-12bb833cde6c"
   },
   "outputs": [
    {
     "data": {
      "text/html": [
       "<div>\n",
       "<style scoped>\n",
       "    .dataframe tbody tr th:only-of-type {\n",
       "        vertical-align: middle;\n",
       "    }\n",
       "\n",
       "    .dataframe tbody tr th {\n",
       "        vertical-align: top;\n",
       "    }\n",
       "\n",
       "    .dataframe thead th {\n",
       "        text-align: right;\n",
       "    }\n",
       "</style>\n",
       "<table border=\"1\" class=\"dataframe\">\n",
       "  <thead>\n",
       "    <tr style=\"text-align: right;\">\n",
       "      <th></th>\n",
       "      <th>Organization Group Code</th>\n",
       "      <th>Job Family Code</th>\n",
       "      <th>Job Code</th>\n",
       "      <th>Year Type</th>\n",
       "      <th>Year</th>\n",
       "      <th>Organization Group</th>\n",
       "      <th>Department Code</th>\n",
       "      <th>Department</th>\n",
       "      <th>Union Code</th>\n",
       "      <th>Union</th>\n",
       "      <th>...</th>\n",
       "      <th>Employee Identifier</th>\n",
       "      <th>Salaries</th>\n",
       "      <th>Overtime</th>\n",
       "      <th>Other Salaries</th>\n",
       "      <th>Total Salary</th>\n",
       "      <th>Retirement</th>\n",
       "      <th>Health and Dental</th>\n",
       "      <th>Other Benefits</th>\n",
       "      <th>Total Benefits</th>\n",
       "      <th>Total Compensation</th>\n",
       "    </tr>\n",
       "  </thead>\n",
       "  <tbody>\n",
       "    <tr>\n",
       "      <th>0</th>\n",
       "      <td>1</td>\n",
       "      <td>1000</td>\n",
       "      <td>1021</td>\n",
       "      <td>Calendar</td>\n",
       "      <td>2013</td>\n",
       "      <td>Public Protection</td>\n",
       "      <td>ADP</td>\n",
       "      <td>ADP Adult Probation</td>\n",
       "      <td>21.0</td>\n",
       "      <td>Prof &amp; Tech Engineers - Miscellaneous, Local 21</td>\n",
       "      <td>...</td>\n",
       "      <td>37730</td>\n",
       "      <td>57534.65</td>\n",
       "      <td>0.0</td>\n",
       "      <td>0.00</td>\n",
       "      <td>57534.65</td>\n",
       "      <td>11253.16</td>\n",
       "      <td>11961.34</td>\n",
       "      <td>4532.63</td>\n",
       "      <td>27747.13</td>\n",
       "      <td>85281.78</td>\n",
       "    </tr>\n",
       "    <tr>\n",
       "      <th>1</th>\n",
       "      <td>1</td>\n",
       "      <td>1000</td>\n",
       "      <td>1023</td>\n",
       "      <td>Calendar</td>\n",
       "      <td>2013</td>\n",
       "      <td>Public Protection</td>\n",
       "      <td>ADP</td>\n",
       "      <td>ADP Adult Probation</td>\n",
       "      <td>21.0</td>\n",
       "      <td>Prof &amp; Tech Engineers - Miscellaneous, Local 21</td>\n",
       "      <td>...</td>\n",
       "      <td>26574</td>\n",
       "      <td>57678.50</td>\n",
       "      <td>0.0</td>\n",
       "      <td>0.00</td>\n",
       "      <td>57678.50</td>\n",
       "      <td>10284.88</td>\n",
       "      <td>7176.80</td>\n",
       "      <td>4755.14</td>\n",
       "      <td>22216.82</td>\n",
       "      <td>79895.32</td>\n",
       "    </tr>\n",
       "    <tr>\n",
       "      <th>2</th>\n",
       "      <td>1</td>\n",
       "      <td>1000</td>\n",
       "      <td>1031</td>\n",
       "      <td>Calendar</td>\n",
       "      <td>2013</td>\n",
       "      <td>Public Protection</td>\n",
       "      <td>ADP</td>\n",
       "      <td>ADP Adult Probation</td>\n",
       "      <td>21.0</td>\n",
       "      <td>Prof &amp; Tech Engineers - Miscellaneous, Local 21</td>\n",
       "      <td>...</td>\n",
       "      <td>8148</td>\n",
       "      <td>63532.93</td>\n",
       "      <td>0.0</td>\n",
       "      <td>0.00</td>\n",
       "      <td>63532.93</td>\n",
       "      <td>12495.83</td>\n",
       "      <td>12918.24</td>\n",
       "      <td>4702.71</td>\n",
       "      <td>30116.78</td>\n",
       "      <td>93649.71</td>\n",
       "    </tr>\n",
       "    <tr>\n",
       "      <th>3</th>\n",
       "      <td>1</td>\n",
       "      <td>1000</td>\n",
       "      <td>1054</td>\n",
       "      <td>Calendar</td>\n",
       "      <td>2013</td>\n",
       "      <td>Public Protection</td>\n",
       "      <td>ADP</td>\n",
       "      <td>ADP Adult Probation</td>\n",
       "      <td>21.0</td>\n",
       "      <td>Prof &amp; Tech Engineers - Miscellaneous, Local 21</td>\n",
       "      <td>...</td>\n",
       "      <td>27436</td>\n",
       "      <td>101274.51</td>\n",
       "      <td>0.0</td>\n",
       "      <td>-7058.59</td>\n",
       "      <td>94215.92</td>\n",
       "      <td>19644.45</td>\n",
       "      <td>12918.24</td>\n",
       "      <td>7458.76</td>\n",
       "      <td>40021.45</td>\n",
       "      <td>134237.37</td>\n",
       "    </tr>\n",
       "    <tr>\n",
       "      <th>4</th>\n",
       "      <td>1</td>\n",
       "      <td>1000</td>\n",
       "      <td>1062</td>\n",
       "      <td>Calendar</td>\n",
       "      <td>2013</td>\n",
       "      <td>Public Protection</td>\n",
       "      <td>ADP</td>\n",
       "      <td>ADP Adult Probation</td>\n",
       "      <td>21.0</td>\n",
       "      <td>Prof &amp; Tech Engineers - Miscellaneous, Local 21</td>\n",
       "      <td>...</td>\n",
       "      <td>37730</td>\n",
       "      <td>5084.00</td>\n",
       "      <td>0.0</td>\n",
       "      <td>0.00</td>\n",
       "      <td>5084.00</td>\n",
       "      <td>1083.90</td>\n",
       "      <td>956.91</td>\n",
       "      <td>387.50</td>\n",
       "      <td>2428.31</td>\n",
       "      <td>7512.31</td>\n",
       "    </tr>\n",
       "  </tbody>\n",
       "</table>\n",
       "<p>5 rows × 22 columns</p>\n",
       "</div>"
      ],
      "text/plain": [
       "   Organization Group Code Job Family Code Job Code Year Type  Year  \\\n",
       "0                        1            1000     1021  Calendar  2013   \n",
       "1                        1            1000     1023  Calendar  2013   \n",
       "2                        1            1000     1031  Calendar  2013   \n",
       "3                        1            1000     1054  Calendar  2013   \n",
       "4                        1            1000     1062  Calendar  2013   \n",
       "\n",
       "  Organization Group Department Code           Department  Union Code  \\\n",
       "0  Public Protection             ADP  ADP Adult Probation        21.0   \n",
       "1  Public Protection             ADP  ADP Adult Probation        21.0   \n",
       "2  Public Protection             ADP  ADP Adult Probation        21.0   \n",
       "3  Public Protection             ADP  ADP Adult Probation        21.0   \n",
       "4  Public Protection             ADP  ADP Adult Probation        21.0   \n",
       "\n",
       "                                             Union  ... Employee Identifier  \\\n",
       "0  Prof & Tech Engineers - Miscellaneous, Local 21  ...               37730   \n",
       "1  Prof & Tech Engineers - Miscellaneous, Local 21  ...               26574   \n",
       "2  Prof & Tech Engineers - Miscellaneous, Local 21  ...                8148   \n",
       "3  Prof & Tech Engineers - Miscellaneous, Local 21  ...               27436   \n",
       "4  Prof & Tech Engineers - Miscellaneous, Local 21  ...               37730   \n",
       "\n",
       "    Salaries  Overtime  Other Salaries  Total Salary  Retirement  \\\n",
       "0   57534.65       0.0            0.00      57534.65    11253.16   \n",
       "1   57678.50       0.0            0.00      57678.50    10284.88   \n",
       "2   63532.93       0.0            0.00      63532.93    12495.83   \n",
       "3  101274.51       0.0        -7058.59      94215.92    19644.45   \n",
       "4    5084.00       0.0            0.00       5084.00     1083.90   \n",
       "\n",
       "   Health and Dental  Other Benefits  Total Benefits  Total Compensation  \n",
       "0           11961.34         4532.63        27747.13            85281.78  \n",
       "1            7176.80         4755.14        22216.82            79895.32  \n",
       "2           12918.24         4702.71        30116.78            93649.71  \n",
       "3           12918.24         7458.76        40021.45           134237.37  \n",
       "4             956.91          387.50         2428.31             7512.31  \n",
       "\n",
       "[5 rows x 22 columns]"
      ]
     },
     "execution_count": 2,
     "metadata": {},
     "output_type": "execute_result"
    }
   ],
   "source": [
    "# Upload Dataset\n",
    "\n",
    "df = pd.read_csv('employee-compensation.csv')\n",
    "df.head(5)"
   ]
  },
  {
   "cell_type": "code",
   "execution_count": 3,
   "metadata": {
    "colab": {
     "base_uri": "https://localhost:8080/"
    },
    "id": "A-n3k3RVQggT",
    "outputId": "8c6e37c2-022a-4f16-ed07-0f8e084c60f2"
   },
   "outputs": [
    {
     "data": {
      "text/plain": [
       "(683277, 22)"
      ]
     },
     "execution_count": 3,
     "metadata": {},
     "output_type": "execute_result"
    }
   ],
   "source": [
    "# No of rows and columns in the data\n",
    "df.shape"
   ]
  },
  {
   "cell_type": "code",
   "execution_count": 4,
   "metadata": {
    "colab": {
     "base_uri": "https://localhost:8080/",
     "height": 381
    },
    "id": "OuUGJ0nVQkKJ",
    "outputId": "cfeb3836-0d0b-469d-d7ad-5886571ebd15"
   },
   "outputs": [
    {
     "data": {
      "text/html": [
       "<div>\n",
       "<style scoped>\n",
       "    .dataframe tbody tr th:only-of-type {\n",
       "        vertical-align: middle;\n",
       "    }\n",
       "\n",
       "    .dataframe tbody tr th {\n",
       "        vertical-align: top;\n",
       "    }\n",
       "\n",
       "    .dataframe thead th {\n",
       "        text-align: right;\n",
       "    }\n",
       "</style>\n",
       "<table border=\"1\" class=\"dataframe\">\n",
       "  <thead>\n",
       "    <tr style=\"text-align: right;\">\n",
       "      <th></th>\n",
       "      <th>Organization Group Code</th>\n",
       "      <th>Year</th>\n",
       "      <th>Union Code</th>\n",
       "      <th>Employee Identifier</th>\n",
       "      <th>Salaries</th>\n",
       "      <th>Overtime</th>\n",
       "      <th>Other Salaries</th>\n",
       "      <th>Total Salary</th>\n",
       "      <th>Retirement</th>\n",
       "      <th>Health and Dental</th>\n",
       "      <th>Other Benefits</th>\n",
       "      <th>Total Benefits</th>\n",
       "      <th>Total Compensation</th>\n",
       "    </tr>\n",
       "  </thead>\n",
       "  <tbody>\n",
       "    <tr>\n",
       "      <th>count</th>\n",
       "      <td>683277.000000</td>\n",
       "      <td>683277.000000</td>\n",
       "      <td>682926.000000</td>\n",
       "      <td>6.832770e+05</td>\n",
       "      <td>683277.000000</td>\n",
       "      <td>683277.000000</td>\n",
       "      <td>683277.000000</td>\n",
       "      <td>683277.000000</td>\n",
       "      <td>683277.000000</td>\n",
       "      <td>683277.000000</td>\n",
       "      <td>683277.000000</td>\n",
       "      <td>683277.000000</td>\n",
       "      <td>683277.000000</td>\n",
       "    </tr>\n",
       "    <tr>\n",
       "      <th>mean</th>\n",
       "      <td>2.977943</td>\n",
       "      <td>2016.364632</td>\n",
       "      <td>492.532173</td>\n",
       "      <td>1.708711e+07</td>\n",
       "      <td>69466.271313</td>\n",
       "      <td>5474.598046</td>\n",
       "      <td>3820.481201</td>\n",
       "      <td>78571.040544</td>\n",
       "      <td>13658.900273</td>\n",
       "      <td>9946.864621</td>\n",
       "      <td>5038.753940</td>\n",
       "      <td>28644.518833</td>\n",
       "      <td>107215.559377</td>\n",
       "    </tr>\n",
       "    <tr>\n",
       "      <th>std</th>\n",
       "      <td>1.579574</td>\n",
       "      <td>2.092180</td>\n",
       "      <td>330.911187</td>\n",
       "      <td>1.925902e+07</td>\n",
       "      <td>47771.799981</td>\n",
       "      <td>13110.029734</td>\n",
       "      <td>8386.602694</td>\n",
       "      <td>55751.218659</td>\n",
       "      <td>10110.075388</td>\n",
       "      <td>5732.982236</td>\n",
       "      <td>3787.981426</td>\n",
       "      <td>17869.713199</td>\n",
       "      <td>72291.710218</td>\n",
       "    </tr>\n",
       "    <tr>\n",
       "      <th>min</th>\n",
       "      <td>1.000000</td>\n",
       "      <td>2013.000000</td>\n",
       "      <td>1.000000</td>\n",
       "      <td>0.000000e+00</td>\n",
       "      <td>-68771.780000</td>\n",
       "      <td>-12308.660000</td>\n",
       "      <td>-19131.100000</td>\n",
       "      <td>-68771.780000</td>\n",
       "      <td>-30621.430000</td>\n",
       "      <td>-3831.090000</td>\n",
       "      <td>-10636.500000</td>\n",
       "      <td>-21295.150000</td>\n",
       "      <td>-74082.610000</td>\n",
       "    </tr>\n",
       "    <tr>\n",
       "      <th>25%</th>\n",
       "      <td>2.000000</td>\n",
       "      <td>2015.000000</td>\n",
       "      <td>250.000000</td>\n",
       "      <td>2.545000e+04</td>\n",
       "      <td>29009.540000</td>\n",
       "      <td>0.000000</td>\n",
       "      <td>0.000000</td>\n",
       "      <td>31676.040000</td>\n",
       "      <td>4662.960000</td>\n",
       "      <td>4780.680000</td>\n",
       "      <td>1870.410000</td>\n",
       "      <td>11716.230000</td>\n",
       "      <td>44439.440000</td>\n",
       "    </tr>\n",
       "    <tr>\n",
       "      <th>50%</th>\n",
       "      <td>2.000000</td>\n",
       "      <td>2017.000000</td>\n",
       "      <td>535.000000</td>\n",
       "      <td>5.097500e+04</td>\n",
       "      <td>67899.360000</td>\n",
       "      <td>0.000000</td>\n",
       "      <td>706.240000</td>\n",
       "      <td>74870.420000</td>\n",
       "      <td>13858.160000</td>\n",
       "      <td>12500.590000</td>\n",
       "      <td>4876.550000</td>\n",
       "      <td>32521.370000</td>\n",
       "      <td>107529.240000</td>\n",
       "    </tr>\n",
       "    <tr>\n",
       "      <th>75%</th>\n",
       "      <td>4.000000</td>\n",
       "      <td>2018.000000</td>\n",
       "      <td>790.000000</td>\n",
       "      <td>3.737703e+07</td>\n",
       "      <td>100416.890000</td>\n",
       "      <td>4223.390000</td>\n",
       "      <td>4362.880000</td>\n",
       "      <td>112666.100000</td>\n",
       "      <td>20151.850000</td>\n",
       "      <td>14037.160000</td>\n",
       "      <td>7525.560000</td>\n",
       "      <td>40915.930000</td>\n",
       "      <td>154170.540000</td>\n",
       "    </tr>\n",
       "    <tr>\n",
       "      <th>max</th>\n",
       "      <td>7.000000</td>\n",
       "      <td>2020.000000</td>\n",
       "      <td>990.000000</td>\n",
       "      <td>4.434643e+07</td>\n",
       "      <td>651936.710000</td>\n",
       "      <td>321523.310000</td>\n",
       "      <td>568163.120000</td>\n",
       "      <td>658867.570000</td>\n",
       "      <td>121952.520000</td>\n",
       "      <td>59405.230000</td>\n",
       "      <td>36815.390000</td>\n",
       "      <td>151645.180000</td>\n",
       "      <td>807625.250000</td>\n",
       "    </tr>\n",
       "  </tbody>\n",
       "</table>\n",
       "</div>"
      ],
      "text/plain": [
       "       Organization Group Code           Year     Union Code  \\\n",
       "count            683277.000000  683277.000000  682926.000000   \n",
       "mean                  2.977943    2016.364632     492.532173   \n",
       "std                   1.579574       2.092180     330.911187   \n",
       "min                   1.000000    2013.000000       1.000000   \n",
       "25%                   2.000000    2015.000000     250.000000   \n",
       "50%                   2.000000    2017.000000     535.000000   \n",
       "75%                   4.000000    2018.000000     790.000000   \n",
       "max                   7.000000    2020.000000     990.000000   \n",
       "\n",
       "       Employee Identifier       Salaries       Overtime  Other Salaries  \\\n",
       "count         6.832770e+05  683277.000000  683277.000000   683277.000000   \n",
       "mean          1.708711e+07   69466.271313    5474.598046     3820.481201   \n",
       "std           1.925902e+07   47771.799981   13110.029734     8386.602694   \n",
       "min           0.000000e+00  -68771.780000  -12308.660000   -19131.100000   \n",
       "25%           2.545000e+04   29009.540000       0.000000        0.000000   \n",
       "50%           5.097500e+04   67899.360000       0.000000      706.240000   \n",
       "75%           3.737703e+07  100416.890000    4223.390000     4362.880000   \n",
       "max           4.434643e+07  651936.710000  321523.310000   568163.120000   \n",
       "\n",
       "        Total Salary     Retirement  Health and Dental  Other Benefits  \\\n",
       "count  683277.000000  683277.000000      683277.000000   683277.000000   \n",
       "mean    78571.040544   13658.900273        9946.864621     5038.753940   \n",
       "std     55751.218659   10110.075388        5732.982236     3787.981426   \n",
       "min    -68771.780000  -30621.430000       -3831.090000   -10636.500000   \n",
       "25%     31676.040000    4662.960000        4780.680000     1870.410000   \n",
       "50%     74870.420000   13858.160000       12500.590000     4876.550000   \n",
       "75%    112666.100000   20151.850000       14037.160000     7525.560000   \n",
       "max    658867.570000  121952.520000       59405.230000    36815.390000   \n",
       "\n",
       "       Total Benefits  Total Compensation  \n",
       "count   683277.000000       683277.000000  \n",
       "mean     28644.518833       107215.559377  \n",
       "std      17869.713199        72291.710218  \n",
       "min     -21295.150000       -74082.610000  \n",
       "25%      11716.230000        44439.440000  \n",
       "50%      32521.370000       107529.240000  \n",
       "75%      40915.930000       154170.540000  \n",
       "max     151645.180000       807625.250000  "
      ]
     },
     "execution_count": 4,
     "metadata": {},
     "output_type": "execute_result"
    }
   ],
   "source": [
    " # Summary of the data\n",
    "df.describe()"
   ]
  },
  {
   "cell_type": "code",
   "execution_count": 5,
   "metadata": {
    "colab": {
     "base_uri": "https://localhost:8080/"
    },
    "id": "mSeRyWksQlNA",
    "outputId": "25101457-cc7c-434a-e42c-a68de58d9c81"
   },
   "outputs": [
    {
     "name": "stdout",
     "output_type": "stream",
     "text": [
      "<class 'pandas.core.frame.DataFrame'>\n",
      "RangeIndex: 683277 entries, 0 to 683276\n",
      "Data columns (total 22 columns):\n",
      " #   Column                   Non-Null Count   Dtype  \n",
      "---  ------                   --------------   -----  \n",
      " 0   Organization Group Code  683277 non-null  int64  \n",
      " 1   Job Family Code          683277 non-null  object \n",
      " 2   Job Code                 683277 non-null  object \n",
      " 3   Year Type                683277 non-null  object \n",
      " 4   Year                     683277 non-null  int64  \n",
      " 5   Organization Group       683277 non-null  object \n",
      " 6   Department Code          683275 non-null  object \n",
      " 7   Department               683275 non-null  object \n",
      " 8   Union Code               682926 non-null  float64\n",
      " 9   Union                    682926 non-null  object \n",
      " 10  Job Family               683277 non-null  object \n",
      " 11  Job                      683272 non-null  object \n",
      " 12  Employee Identifier      683277 non-null  int64  \n",
      " 13  Salaries                 683277 non-null  float64\n",
      " 14  Overtime                 683277 non-null  float64\n",
      " 15  Other Salaries           683277 non-null  float64\n",
      " 16  Total Salary             683277 non-null  float64\n",
      " 17  Retirement               683277 non-null  float64\n",
      " 18  Health and Dental        683277 non-null  float64\n",
      " 19  Other Benefits           683277 non-null  float64\n",
      " 20  Total Benefits           683277 non-null  float64\n",
      " 21  Total Compensation       683277 non-null  float64\n",
      "dtypes: float64(10), int64(3), object(9)\n",
      "memory usage: 114.7+ MB\n"
     ]
    }
   ],
   "source": [
    "# Information of dataset\n",
    "\n",
    "df.info()"
   ]
  },
  {
   "cell_type": "code",
   "execution_count": 6,
   "metadata": {
    "colab": {
     "base_uri": "https://localhost:8080/"
    },
    "id": "fz2PI2GSRuxp",
    "outputId": "13b291f5-fa72-49fa-acc8-4d944e9f4ec8"
   },
   "outputs": [
    {
     "data": {
      "text/plain": [
       "Organization Group Code      0\n",
       "Job Family Code              0\n",
       "Job Code                     0\n",
       "Year Type                    0\n",
       "Year                         0\n",
       "Organization Group           0\n",
       "Department Code              2\n",
       "Department                   2\n",
       "Union Code                 351\n",
       "Union                      351\n",
       "Job Family                   0\n",
       "Job                          5\n",
       "Employee Identifier          0\n",
       "Salaries                     0\n",
       "Overtime                     0\n",
       "Other Salaries               0\n",
       "Total Salary                 0\n",
       "Retirement                   0\n",
       "Health and Dental            0\n",
       "Other Benefits               0\n",
       "Total Benefits               0\n",
       "Total Compensation           0\n",
       "dtype: int64"
      ]
     },
     "execution_count": 6,
     "metadata": {},
     "output_type": "execute_result"
    }
   ],
   "source": [
    "# To check if any null values in the data?\n",
    "\n",
    "df.isnull().sum()"
   ]
  },
  {
   "cell_type": "code",
   "execution_count": 7,
   "metadata": {
    "colab": {
     "base_uri": "https://localhost:8080/"
    },
    "id": "5bj7hdf3R13p",
    "outputId": "76de8cae-b5fe-4ffa-805b-ae4de0b373c1"
   },
   "outputs": [
    {
     "data": {
      "text/plain": [
       "Organization Group Code      int64\n",
       "Job Family Code             object\n",
       "Job Code                    object\n",
       "Year Type                   object\n",
       "Year                         int64\n",
       "Organization Group          object\n",
       "Department Code             object\n",
       "Department                  object\n",
       "Union Code                 float64\n",
       "Union                       object\n",
       "Job Family                  object\n",
       "Job                         object\n",
       "Employee Identifier          int64\n",
       "Salaries                   float64\n",
       "Overtime                   float64\n",
       "Other Salaries             float64\n",
       "Total Salary               float64\n",
       "Retirement                 float64\n",
       "Health and Dental          float64\n",
       "Other Benefits             float64\n",
       "Total Benefits             float64\n",
       "Total Compensation         float64\n",
       "dtype: object"
      ]
     },
     "execution_count": 7,
     "metadata": {},
     "output_type": "execute_result"
    }
   ],
   "source": [
    "# To check the data types of the dataset\n",
    "\n",
    "df.dtypes"
   ]
  },
  {
   "cell_type": "code",
   "execution_count": 8,
   "metadata": {
    "colab": {
     "base_uri": "https://localhost:8080/"
    },
    "id": "ibhXc8_yR5VQ",
    "outputId": "cbe80bd8-fbc1-493b-b33a-d0e633400bc4"
   },
   "outputs": [
    {
     "name": "stdout",
     "output_type": "stream",
     "text": [
      "Organization Group Code has : 7 Unique Values\n",
      "Job Family Code has : 59 Unique Values\n",
      "Job Code has : 1210 Unique Values\n",
      "Year Type has : 2 Unique Values\n",
      "Year has : 8 Unique Values\n",
      "Organization Group has : 7 Unique Values\n",
      "Department Code has : 60 Unique Values\n",
      "Department has : 109 Unique Values\n",
      "Union Code has : 70 Unique Values\n",
      "Union has : 129 Unique Values\n",
      "Job Family has : 59 Unique Values\n",
      "Job has : 1349 Unique Values\n",
      "Employee Identifier has : 309750 Unique Values\n",
      "Salaries has : 498512 Unique Values\n",
      "Overtime has : 262033 Unique Values\n",
      "Other Salaries has : 307854 Unique Values\n",
      "Total Salary has : 615223 Unique Values\n",
      "Retirement has : 451716 Unique Values\n",
      "Health and Dental has : 209969 Unique Values\n",
      "Other Benefits has : 496200 Unique Values\n",
      "Total Benefits has : 616499 Unique Values\n",
      "Total Compensation has : 658692 Unique Values\n"
     ]
    }
   ],
   "source": [
    "# No of Unique value per column/attribute\n",
    "\n",
    "col_name = df.columns\n",
    "for i in col_name:\n",
    "  print(i,'has :',df[i].nunique(),'Unique Values')"
   ]
  },
  {
   "cell_type": "code",
   "execution_count": 9,
   "metadata": {
    "colab": {
     "base_uri": "https://localhost:8080/",
     "height": 625
    },
    "id": "usC3PMzgR8aA",
    "outputId": "a0c17287-312d-400e-e8d6-57d6f10fb85e"
   },
   "outputs": [
    {
     "data": {
      "text/html": [
       "<div>\n",
       "<style scoped>\n",
       "    .dataframe tbody tr th:only-of-type {\n",
       "        vertical-align: middle;\n",
       "    }\n",
       "\n",
       "    .dataframe tbody tr th {\n",
       "        vertical-align: top;\n",
       "    }\n",
       "\n",
       "    .dataframe thead th {\n",
       "        text-align: right;\n",
       "    }\n",
       "</style>\n",
       "<table border=\"1\" class=\"dataframe\">\n",
       "  <thead>\n",
       "    <tr style=\"text-align: right;\">\n",
       "      <th></th>\n",
       "      <th>Organization Group Code</th>\n",
       "      <th>Year</th>\n",
       "      <th>Union Code</th>\n",
       "      <th>Employee Identifier</th>\n",
       "      <th>Salaries</th>\n",
       "      <th>Overtime</th>\n",
       "      <th>Other Salaries</th>\n",
       "      <th>Total Salary</th>\n",
       "      <th>Retirement</th>\n",
       "      <th>Health and Dental</th>\n",
       "      <th>Other Benefits</th>\n",
       "      <th>Total Benefits</th>\n",
       "      <th>Total Compensation</th>\n",
       "    </tr>\n",
       "  </thead>\n",
       "  <tbody>\n",
       "    <tr>\n",
       "      <th>Organization Group Code</th>\n",
       "      <td>1.000000</td>\n",
       "      <td>-0.000707</td>\n",
       "      <td>-0.007614</td>\n",
       "      <td>-0.000483</td>\n",
       "      <td>-0.192644</td>\n",
       "      <td>-0.297225</td>\n",
       "      <td>-0.199240</td>\n",
       "      <td>-0.264133</td>\n",
       "      <td>-0.234457</td>\n",
       "      <td>-0.226974</td>\n",
       "      <td>0.032476</td>\n",
       "      <td>-0.198581</td>\n",
       "      <td>-0.252786</td>\n",
       "    </tr>\n",
       "    <tr>\n",
       "      <th>Year</th>\n",
       "      <td>-0.000707</td>\n",
       "      <td>1.000000</td>\n",
       "      <td>0.005063</td>\n",
       "      <td>0.838653</td>\n",
       "      <td>0.125284</td>\n",
       "      <td>0.080808</td>\n",
       "      <td>0.006865</td>\n",
       "      <td>0.124137</td>\n",
       "      <td>0.100216</td>\n",
       "      <td>0.161185</td>\n",
       "      <td>0.102326</td>\n",
       "      <td>0.130101</td>\n",
       "      <td>0.127894</td>\n",
       "    </tr>\n",
       "    <tr>\n",
       "      <th>Union Code</th>\n",
       "      <td>-0.007614</td>\n",
       "      <td>0.005063</td>\n",
       "      <td>1.000000</td>\n",
       "      <td>0.006614</td>\n",
       "      <td>-0.095213</td>\n",
       "      <td>0.059542</td>\n",
       "      <td>0.126444</td>\n",
       "      <td>-0.048234</td>\n",
       "      <td>-0.108697</td>\n",
       "      <td>-0.105928</td>\n",
       "      <td>-0.325772</td>\n",
       "      <td>-0.164550</td>\n",
       "      <td>-0.077872</td>\n",
       "    </tr>\n",
       "    <tr>\n",
       "      <th>Employee Identifier</th>\n",
       "      <td>-0.000483</td>\n",
       "      <td>0.838653</td>\n",
       "      <td>0.006614</td>\n",
       "      <td>1.000000</td>\n",
       "      <td>0.130882</td>\n",
       "      <td>0.081802</td>\n",
       "      <td>0.007155</td>\n",
       "      <td>0.128645</td>\n",
       "      <td>0.103993</td>\n",
       "      <td>0.174044</td>\n",
       "      <td>0.094587</td>\n",
       "      <td>0.134723</td>\n",
       "      <td>0.132513</td>\n",
       "    </tr>\n",
       "    <tr>\n",
       "      <th>Salaries</th>\n",
       "      <td>-0.192644</td>\n",
       "      <td>0.125284</td>\n",
       "      <td>-0.095213</td>\n",
       "      <td>0.130882</td>\n",
       "      <td>1.000000</td>\n",
       "      <td>0.259388</td>\n",
       "      <td>0.256029</td>\n",
       "      <td>0.957367</td>\n",
       "      <td>0.947414</td>\n",
       "      <td>0.758175</td>\n",
       "      <td>0.727234</td>\n",
       "      <td>0.933410</td>\n",
       "      <td>0.969048</td>\n",
       "    </tr>\n",
       "    <tr>\n",
       "      <th>Overtime</th>\n",
       "      <td>-0.297225</td>\n",
       "      <td>0.080808</td>\n",
       "      <td>0.059542</td>\n",
       "      <td>0.081802</td>\n",
       "      <td>0.259388</td>\n",
       "      <td>1.000000</td>\n",
       "      <td>0.291799</td>\n",
       "      <td>0.501886</td>\n",
       "      <td>0.311104</td>\n",
       "      <td>0.299804</td>\n",
       "      <td>0.091990</td>\n",
       "      <td>0.291696</td>\n",
       "      <td>0.459157</td>\n",
       "    </tr>\n",
       "    <tr>\n",
       "      <th>Other Salaries</th>\n",
       "      <td>-0.199240</td>\n",
       "      <td>0.006865</td>\n",
       "      <td>0.126444</td>\n",
       "      <td>0.007155</td>\n",
       "      <td>0.256029</td>\n",
       "      <td>0.291799</td>\n",
       "      <td>1.000000</td>\n",
       "      <td>0.415493</td>\n",
       "      <td>0.279956</td>\n",
       "      <td>0.155871</td>\n",
       "      <td>0.051601</td>\n",
       "      <td>0.219334</td>\n",
       "      <td>0.374644</td>\n",
       "    </tr>\n",
       "    <tr>\n",
       "      <th>Total Salary</th>\n",
       "      <td>-0.264133</td>\n",
       "      <td>0.124137</td>\n",
       "      <td>-0.048234</td>\n",
       "      <td>0.128645</td>\n",
       "      <td>0.957367</td>\n",
       "      <td>0.501886</td>\n",
       "      <td>0.415493</td>\n",
       "      <td>1.000000</td>\n",
       "      <td>0.928071</td>\n",
       "      <td>0.745430</td>\n",
       "      <td>0.653085</td>\n",
       "      <td>0.902661</td>\n",
       "      <td>0.994326</td>\n",
       "    </tr>\n",
       "    <tr>\n",
       "      <th>Retirement</th>\n",
       "      <td>-0.234457</td>\n",
       "      <td>0.100216</td>\n",
       "      <td>-0.108697</td>\n",
       "      <td>0.103993</td>\n",
       "      <td>0.947414</td>\n",
       "      <td>0.311104</td>\n",
       "      <td>0.279956</td>\n",
       "      <td>0.928071</td>\n",
       "      <td>1.000000</td>\n",
       "      <td>0.782788</td>\n",
       "      <td>0.677955</td>\n",
       "      <td>0.960612</td>\n",
       "      <td>0.953180</td>\n",
       "    </tr>\n",
       "    <tr>\n",
       "      <th>Health and Dental</th>\n",
       "      <td>-0.226974</td>\n",
       "      <td>0.161185</td>\n",
       "      <td>-0.105928</td>\n",
       "      <td>0.174044</td>\n",
       "      <td>0.758175</td>\n",
       "      <td>0.299804</td>\n",
       "      <td>0.155871</td>\n",
       "      <td>0.745430</td>\n",
       "      <td>0.782788</td>\n",
       "      <td>1.000000</td>\n",
       "      <td>0.626897</td>\n",
       "      <td>0.896584</td>\n",
       "      <td>0.796500</td>\n",
       "    </tr>\n",
       "    <tr>\n",
       "      <th>Other Benefits</th>\n",
       "      <td>0.032476</td>\n",
       "      <td>0.102326</td>\n",
       "      <td>-0.325772</td>\n",
       "      <td>0.094587</td>\n",
       "      <td>0.727234</td>\n",
       "      <td>0.091990</td>\n",
       "      <td>0.051601</td>\n",
       "      <td>0.653085</td>\n",
       "      <td>0.677955</td>\n",
       "      <td>0.626897</td>\n",
       "      <td>1.000000</td>\n",
       "      <td>0.796664</td>\n",
       "      <td>0.700585</td>\n",
       "    </tr>\n",
       "    <tr>\n",
       "      <th>Total Benefits</th>\n",
       "      <td>-0.198581</td>\n",
       "      <td>0.130101</td>\n",
       "      <td>-0.164550</td>\n",
       "      <td>0.134723</td>\n",
       "      <td>0.933410</td>\n",
       "      <td>0.291696</td>\n",
       "      <td>0.219334</td>\n",
       "      <td>0.902661</td>\n",
       "      <td>0.960612</td>\n",
       "      <td>0.896584</td>\n",
       "      <td>0.796664</td>\n",
       "      <td>1.000000</td>\n",
       "      <td>0.943319</td>\n",
       "    </tr>\n",
       "    <tr>\n",
       "      <th>Total Compensation</th>\n",
       "      <td>-0.252786</td>\n",
       "      <td>0.127894</td>\n",
       "      <td>-0.077872</td>\n",
       "      <td>0.132513</td>\n",
       "      <td>0.969048</td>\n",
       "      <td>0.459157</td>\n",
       "      <td>0.374644</td>\n",
       "      <td>0.994326</td>\n",
       "      <td>0.953180</td>\n",
       "      <td>0.796500</td>\n",
       "      <td>0.700585</td>\n",
       "      <td>0.943319</td>\n",
       "      <td>1.000000</td>\n",
       "    </tr>\n",
       "  </tbody>\n",
       "</table>\n",
       "</div>"
      ],
      "text/plain": [
       "                         Organization Group Code      Year  Union Code  \\\n",
       "Organization Group Code                 1.000000 -0.000707   -0.007614   \n",
       "Year                                   -0.000707  1.000000    0.005063   \n",
       "Union Code                             -0.007614  0.005063    1.000000   \n",
       "Employee Identifier                    -0.000483  0.838653    0.006614   \n",
       "Salaries                               -0.192644  0.125284   -0.095213   \n",
       "Overtime                               -0.297225  0.080808    0.059542   \n",
       "Other Salaries                         -0.199240  0.006865    0.126444   \n",
       "Total Salary                           -0.264133  0.124137   -0.048234   \n",
       "Retirement                             -0.234457  0.100216   -0.108697   \n",
       "Health and Dental                      -0.226974  0.161185   -0.105928   \n",
       "Other Benefits                          0.032476  0.102326   -0.325772   \n",
       "Total Benefits                         -0.198581  0.130101   -0.164550   \n",
       "Total Compensation                     -0.252786  0.127894   -0.077872   \n",
       "\n",
       "                         Employee Identifier  Salaries  Overtime  \\\n",
       "Organization Group Code            -0.000483 -0.192644 -0.297225   \n",
       "Year                                0.838653  0.125284  0.080808   \n",
       "Union Code                          0.006614 -0.095213  0.059542   \n",
       "Employee Identifier                 1.000000  0.130882  0.081802   \n",
       "Salaries                            0.130882  1.000000  0.259388   \n",
       "Overtime                            0.081802  0.259388  1.000000   \n",
       "Other Salaries                      0.007155  0.256029  0.291799   \n",
       "Total Salary                        0.128645  0.957367  0.501886   \n",
       "Retirement                          0.103993  0.947414  0.311104   \n",
       "Health and Dental                   0.174044  0.758175  0.299804   \n",
       "Other Benefits                      0.094587  0.727234  0.091990   \n",
       "Total Benefits                      0.134723  0.933410  0.291696   \n",
       "Total Compensation                  0.132513  0.969048  0.459157   \n",
       "\n",
       "                         Other Salaries  Total Salary  Retirement  \\\n",
       "Organization Group Code       -0.199240     -0.264133   -0.234457   \n",
       "Year                           0.006865      0.124137    0.100216   \n",
       "Union Code                     0.126444     -0.048234   -0.108697   \n",
       "Employee Identifier            0.007155      0.128645    0.103993   \n",
       "Salaries                       0.256029      0.957367    0.947414   \n",
       "Overtime                       0.291799      0.501886    0.311104   \n",
       "Other Salaries                 1.000000      0.415493    0.279956   \n",
       "Total Salary                   0.415493      1.000000    0.928071   \n",
       "Retirement                     0.279956      0.928071    1.000000   \n",
       "Health and Dental              0.155871      0.745430    0.782788   \n",
       "Other Benefits                 0.051601      0.653085    0.677955   \n",
       "Total Benefits                 0.219334      0.902661    0.960612   \n",
       "Total Compensation             0.374644      0.994326    0.953180   \n",
       "\n",
       "                         Health and Dental  Other Benefits  Total Benefits  \\\n",
       "Organization Group Code          -0.226974        0.032476       -0.198581   \n",
       "Year                              0.161185        0.102326        0.130101   \n",
       "Union Code                       -0.105928       -0.325772       -0.164550   \n",
       "Employee Identifier               0.174044        0.094587        0.134723   \n",
       "Salaries                          0.758175        0.727234        0.933410   \n",
       "Overtime                          0.299804        0.091990        0.291696   \n",
       "Other Salaries                    0.155871        0.051601        0.219334   \n",
       "Total Salary                      0.745430        0.653085        0.902661   \n",
       "Retirement                        0.782788        0.677955        0.960612   \n",
       "Health and Dental                 1.000000        0.626897        0.896584   \n",
       "Other Benefits                    0.626897        1.000000        0.796664   \n",
       "Total Benefits                    0.896584        0.796664        1.000000   \n",
       "Total Compensation                0.796500        0.700585        0.943319   \n",
       "\n",
       "                         Total Compensation  \n",
       "Organization Group Code           -0.252786  \n",
       "Year                               0.127894  \n",
       "Union Code                        -0.077872  \n",
       "Employee Identifier                0.132513  \n",
       "Salaries                           0.969048  \n",
       "Overtime                           0.459157  \n",
       "Other Salaries                     0.374644  \n",
       "Total Salary                       0.994326  \n",
       "Retirement                         0.953180  \n",
       "Health and Dental                  0.796500  \n",
       "Other Benefits                     0.700585  \n",
       "Total Benefits                     0.943319  \n",
       "Total Compensation                 1.000000  "
      ]
     },
     "execution_count": 9,
     "metadata": {},
     "output_type": "execute_result"
    }
   ],
   "source": [
    "# Find correlation between columns\n",
    "\n",
    "corr = df.corr()\n",
    "corr"
   ]
  },
  {
   "cell_type": "code",
   "execution_count": 10,
   "metadata": {
    "colab": {
     "base_uri": "https://localhost:8080/",
     "height": 639
    },
    "id": "J9hDvMUmSE6g",
    "outputId": "9f32fe6c-7a18-4955-c81e-1a291c14f2df"
   },
   "outputs": [
    {
     "data": {
      "image/png": "[encoded data removed]",
      "text/plain": [
       "<Figure size 1440x1080 with 2 Axes>"
      ]
     },
     "metadata": {
      "needs_background": "light"
     },
     "output_type": "display_data"
    }
   ],
   "source": [
    "# Making the Confusion Matrix\n",
    "\n",
    "plt.figure(figsize=(20,15))\n",
    "sns.heatmap(corr, annot=True)\n",
    "plt.ylabel('True label')\n",
    "plt.xlabel('Predicted label')\n",
    "plt.show()"
   ]
  },
  {
   "cell_type": "code",
   "execution_count": 11,
   "metadata": {
    "id": "xqZI-xSoSQYA"
   },
   "outputs": [],
   "source": [
    "from scipy.spatial.distance import cdist, pdist\n",
    "from sklearn.cluster import KMeans"
   ]
  },
  {
   "cell_type": "code",
   "execution_count": 12,
   "metadata": {
    "id": "FH1UKwgwSOWA"
   },
   "outputs": [],
   "source": [
    "# Find the number of clusters for the data using Elbow method\n",
    "\n",
    "K = range(1,10)\n",
    "X = df.drop(['Organization Group Code','Job Family Code','Job Code','Year Type','Year','Organization Group','Department Code','Department','Union Code','Union','Job Family','Job','Employee Identifier','Salaries','Overtime','Other Salaries','Retirement','Health and Dental','Other Benefits','Total Benefits'],axis=1)\n",
    "#X.head(5)\n",
    "KM = [KMeans(n_clusters=k).fit(X) for k in K]\n",
    "centroids = [k.cluster_centers_ for k in KM]\n",
    "D_k = [cdist(X, cent, 'euclidean') for cent in centroids]\n",
    "cIdx = [np.argmin(D,axis=1) for D in D_k]\n",
    "dist = [np.min(D,axis=1) for D in D_k]\n",
    "avgWithinSS = [sum(d)/X.shape[0] for d in dist]"
   ]
  },
  {
   "cell_type": "code",
   "execution_count": 13,
   "metadata": {
    "id": "KyN9tGqiSAxw"
   },
   "outputs": [],
   "source": [
    "# class_val = X.columns[X.dtypes =='float64']\n",
    "# df_new = pd.get_dummies(X,columns = class_val)\n",
    "# df_new.rename(columns={'Total Salary':'Total_Salary'},inplace = True)\n",
    "# df_new.drop('Total Salary',axis = 1,inplace = True)\n",
    "# X = df_new"
   ]
  },
  {
   "cell_type": "code",
   "execution_count": 38,
   "metadata": {},
   "outputs": [
    {
     "data": {
      "text/plain": [
       "658692"
      ]
     },
     "execution_count": 38,
     "metadata": {},
     "output_type": "execute_result"
    }
   ],
   "source": [
    "# Find total Number of unique values.\n",
    "\n",
    "X['Total Compensation'].nunique()"
   ]
  },
  {
   "cell_type": "code",
   "execution_count": 37,
   "metadata": {
    "id": "gS2sJu6wSHSR"
   },
   "outputs": [
    {
     "data": {
      "text/plain": [
       "107529.24"
      ]
     },
     "execution_count": 37,
     "metadata": {},
     "output_type": "execute_result"
    }
   ],
   "source": [
    "# Find median for Total compensation Column\n",
    "\n",
    "x=df[(df['Total Compensation']!='?')]\n",
    "x= x['Total Compensation'].median()\n",
    "x"
   ]
  },
  {
   "cell_type": "code",
   "execution_count": 15,
   "metadata": {},
   "outputs": [
    {
     "data": {
      "text/plain": [
       "array([ 85281.78,  79895.32,  93649.71, ..., 139289.72, 164424.89,\n",
       "       165428.06])"
      ]
     },
     "execution_count": 15,
     "metadata": {},
     "output_type": "execute_result"
    }
   ],
   "source": [
    "# replace unique values with median value of the col= Total Compensation\n",
    "\n",
    "X['Total Compensation'].replace(to_replace='?',value=107529.24,inplace=True)\n",
    "\n",
    "X['Total Compensation'].unique()"
   ]
  },
  {
   "cell_type": "code",
   "execution_count": 16,
   "metadata": {},
   "outputs": [],
   "source": []
  },
  {
   "cell_type": "code",
   "execution_count": 17,
   "metadata": {},
   "outputs": [],
   "source": []
  },
  {
   "cell_type": "code",
   "execution_count": 18,
   "metadata": {
    "id": "Ra9588SdV465"
   },
   "outputs": [
    {
     "data": {
      "image/png": "[encoded data removed]",
      "text/plain": [
       "<Figure size 720x288 with 1 Axes>"
      ]
     },
     "metadata": {
      "needs_background": "light"
     },
     "output_type": "display_data"
    }
   ],
   "source": [
    "##### plot ###\n",
    "kIdx = 2\n",
    "# elbow curve\n",
    "# Set the size of the plot\n",
    "plt.figure(figsize=(10,4))\n",
    "plt.subplot(1, 2, 1)\n",
    "plt.plot(K, avgWithinSS, 'b*-')\n",
    "plt.plot(K[kIdx], avgWithinSS[kIdx], marker='o', markersize=12,\n",
    "markeredgewidth=2, markeredgecolor='r', markerfacecolor='None')\n",
    "plt.grid(True)\n",
    "plt.xlabel('Number of clusters')\n",
    "plt.ylabel('Average within-cluster sum of squares')\n",
    "plt.title('Elbow for KMeans clustering')\n",
    "\n",
    "plt.tight_layout()"
   ]
  },
  {
   "cell_type": "code",
   "execution_count": 27,
   "metadata": {},
   "outputs": [],
   "source": [
    "# Try fitting the model to K-Means\n",
    "\n",
    "kmeans=KMeans(n_clusters=3).fit(X)"
   ]
  },
  {
   "cell_type": "code",
   "execution_count": 29,
   "metadata": {},
   "outputs": [
    {
     "data": {
      "text/plain": [
       "Index(['Total Salary', 'Total Compensation'], dtype='object')"
      ]
     },
     "execution_count": 29,
     "metadata": {},
     "output_type": "execute_result"
    }
   ],
   "source": [
    "# check columns after drop all other columns\n",
    "\n",
    "X.columns"
   ]
  },
  {
   "cell_type": "code",
   "execution_count": 30,
   "metadata": {},
   "outputs": [
    {
     "name": "stdout",
     "output_type": "stream",
     "text": [
      "[[ 82611.9982819  116609.98256952]\n",
      " [ 17350.80865783  23979.88324225]\n",
      " [159717.1855195  209040.8792561 ]]\n"
     ]
    }
   ],
   "source": [
    "# Print centroid (Mean)\n",
    "\n",
    "print(kmeans.cluster_centers_)"
   ]
  },
  {
   "cell_type": "code",
   "execution_count": 31,
   "metadata": {},
   "outputs": [
    {
     "name": "stdout",
     "output_type": "stream",
     "text": [
      "[0 0 0 ... 0 0 0]\n"
     ]
    }
   ],
   "source": [
    "y = kmeans.labels_\n",
    "print(y)"
   ]
  },
  {
   "cell_type": "code",
   "execution_count": 32,
   "metadata": {},
   "outputs": [
    {
     "data": {
      "image/png": "[encoded data removed]",
      "text/plain": [
       "<Figure size 432x288 with 1 Axes>"
      ]
     },
     "metadata": {
      "needs_background": "light"
     },
     "output_type": "display_data"
    }
   ],
   "source": [
    "sns.countplot(x=kmeans.labels_, palette='Oranges')\n",
    "plt.show()"
   ]
  },
  {
   "cell_type": "code",
   "execution_count": 33,
   "metadata": {},
   "outputs": [
    {
     "data": {
      "image/png": "[encoded data removed]",
      "text/plain": [
       "<Figure size 432x288 with 1 Axes>"
      ]
     },
     "metadata": {
      "needs_background": "light"
     },
     "output_type": "display_data"
    }
   ],
   "source": [
    "# define all Cluster using scatter plot \n",
    "\n",
    "plt.scatter(df.iloc[:,0].values,df.iloc[:,3].values, c=kmeans.labels_, cmap=\"rainbow\")\n",
    "plt.show()"
   ]
  },
  {
   "cell_type": "code",
   "execution_count": 34,
   "metadata": {},
   "outputs": [
    {
     "data": {
      "text/plain": [
       "<matplotlib.collections.PathCollection at 0x1e444c4d8e0>"
      ]
     },
     "execution_count": 34,
     "metadata": {},
     "output_type": "execute_result"
    },
    {
     "data": {
      "image/png": "[encoded data removed]",
      "text/plain": [
       "<Figure size 432x288 with 1 Axes>"
      ]
     },
     "metadata": {
      "needs_background": "light"
     },
     "output_type": "display_data"
    }
   ],
   "source": [
    "# define centroid of all three clusters\n",
    "\n",
    "centers = np.array(kmeans.cluster_centers_)\n",
    "plt.scatter(centers[:,0], centers[:,1], marker=\"x\", color='k')"
   ]
  },
  {
   "cell_type": "code",
   "execution_count": 40,
   "metadata": {},
   "outputs": [
    {
     "data": {
      "image/png": "[encoded data removed]",
      "text/plain": [
       "<Figure size 432x288 with 1 Axes>"
      ]
     },
     "metadata": {
      "needs_background": "light"
     },
     "output_type": "display_data"
    }
   ],
   "source": [
    "# define centroid with all three clusters\n",
    "\n",
    "plt.scatter(X.iloc[:,0].values,df.iloc[:,3].values, c=kmeans.labels_, cmap=\"rainbow\")\n",
    "centers = np.array(kmeans.cluster_centers_)\n",
    "plt.scatter(centers[:,0], centers[:,1], marker=\"x\", color='k')\n",
    "plt.show()"
   ]
  },
  {
   "cell_type": "code",
   "execution_count": null,
   "metadata": {},
   "outputs": [],
   "source": []
  },
  {
   "cell_type": "code",
   "execution_count": null,
   "metadata": {},
   "outputs": [],
   "source": []
  }
 ],
 "metadata": {
  "colab": {
   "name": "Project_Clustering.ipynb",
   "provenance": []
  },
  "kernelspec": {
   "display_name": "Python 3 (ipykernel)",
   "language": "python",
   "name": "python3"
  },
  "language_info": {
   "codemirror_mode": {
    "name": "ipython",
    "version": 3
   },
   "file_extension": ".py",
   "mimetype": "text/x-python",
   "name": "python",
   "nbconvert_exporter": "python",
   "pygments_lexer": "ipython3",
   "version": "3.9.12"
  }
 },
 "nbformat": 4,
 "nbformat_minor": 1
}
